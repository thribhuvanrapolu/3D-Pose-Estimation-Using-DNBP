{
 "cells": [
  {
   "cell_type": "code",
   "execution_count": 2,
   "id": "4cf3636c",
   "metadata": {},
   "outputs": [],
   "source": [
    "import numpy as np\n",
    "import matplotlib.pyplot as plt\n",
    "\n",
    "# Display utilities\n",
    "def visualize_joints_2d(ax, joints, joint_idxs=True, links=None, alpha=1):\n",
    "\t\"\"\"Draw 2d skeleton on matplotlib axis\"\"\"\n",
    "\tif links is None:\n",
    "\t\tlinks = [(0, 1, 2, 3, 4), (0, 5, 6, 7, 8), (0, 9, 10, 11, 12),\n",
    "\t\t\t\t (0, 13, 14, 15, 16), (0, 17, 18, 19, 20)]\n",
    "\t# Scatter hand joints on image\n",
    "\tx = joints[:, 0]\n",
    "\ty = joints[:, 1]\n",
    "\tax.scatter(x, y, 1, 'r')\n",
    "\n",
    "\t# Add idx labels to joints\n",
    "\tfor row_idx, row in enumerate(joints):\n",
    "\t\tif joint_idxs:\n",
    "\t\t\tplt.annotate(str(row_idx), (row[0], row[1]))\n",
    "\t_draw2djoints(ax, joints, links, alpha=alpha)\n",
    "\n",
    "\n",
    "def visualize_joints_belief(ax, beliefs, weights, joint_idx):\n",
    "\t# Scatter hand joints on image\n",
    "\tx = beliefs[:, 0]\n",
    "\ty = beliefs[:, 1]\n",
    "\n",
    "\tcolors = ['black', 'r', 'm', 'b', 'c', 'g']+3*['r']+3*['m']+3*['b']+3*['c']+3*['g']\n",
    "\tax.scatter(x, y, 1 if weights is None else [(1/3)*2**w for w in weights], colors[joint_idx])\n",
    "\n",
    "\n",
    "def _draw2djoints(ax, annots, links, alpha=1):\n",
    "\t\"\"\"Draw segments, one color per link\"\"\"\n",
    "\tcolors = ['r', 'm', 'b', 'c', 'g']\n",
    "\n",
    "\tfor finger_idx, finger_links in enumerate(links):\n",
    "\t\tfor idx in range(len(finger_links) - 1):\n",
    "\t\t\t_draw2dseg(\n",
    "\t\t\t\tax,\n",
    "\t\t\t\tannots,\n",
    "\t\t\t\tfinger_links[idx],\n",
    "\t\t\t\tfinger_links[idx + 1],\n",
    "\t\t\t\tc=colors[finger_idx],\n",
    "\t\t\t\talpha=alpha)\n",
    "\n",
    "def _draw2dseg(ax, annot, idx1, idx2, c='r', alpha=1):\n",
    "\t\"\"\"Draw segment of given color\"\"\"\n",
    "\tax.plot(\n",
    "\t\t[annot[idx1, 0], annot[idx2, 0]], [annot[idx1, 1], annot[idx2, 1]],\n",
    "\t\tc=c,\n",
    "\t\talpha=alpha)\n",
    "\n",
    "\n",
    "reorder_idx = np.array([\n",
    "\t0, 1, 6, 7, 8, 2, 9, 10, 11, 3, 12, 13, 14, 4, 15, 16, 17, 5, 18, 19,\n",
    "\t20\n",
    "])\n"
   ]
  },
  {
   "cell_type": "code",
   "execution_count": null,
   "id": "ab7ac80a",
   "metadata": {},
   "outputs": [],
   "source": []
  }
 ],
 "metadata": {
  "kernelspec": {
   "display_name": "work",
   "language": "python",
   "name": "python3"
  },
  "language_info": {
   "codemirror_mode": {
    "name": "ipython",
    "version": 3
   },
   "file_extension": ".py",
   "mimetype": "text/x-python",
   "name": "python",
   "nbconvert_exporter": "python",
   "pygments_lexer": "ipython3",
   "version": "3.12.8"
  }
 },
 "nbformat": 4,
 "nbformat_minor": 5
}
